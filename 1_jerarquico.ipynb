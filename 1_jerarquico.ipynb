{
 "cells": [
  {
   "cell_type": "markdown",
   "metadata": {},
   "source": [
    "importacion de librerias\n"
   ]
  },
  {
   "cell_type": "code",
   "execution_count": 1,
   "metadata": {},
   "outputs": [],
   "source": [
    "import pandas as pd\n",
    "import numpy as np\n",
    "import matplotlib as plt\n",
    "import seaborn as sns"
   ]
  },
  {
   "cell_type": "code",
   "execution_count": 2,
   "metadata": {},
   "outputs": [],
   "source": [
    "df = pd.read_csv('./data/2024_Accidentalidad.csv', delimiter=';')\n"
   ]
  },
  {
   "cell_type": "code",
   "execution_count": 3,
   "metadata": {},
   "outputs": [
    {
     "data": {
      "text/html": [
       "<div>\n",
       "<style scoped>\n",
       "    .dataframe tbody tr th:only-of-type {\n",
       "        vertical-align: middle;\n",
       "    }\n",
       "\n",
       "    .dataframe tbody tr th {\n",
       "        vertical-align: top;\n",
       "    }\n",
       "\n",
       "    .dataframe thead th {\n",
       "        text-align: right;\n",
       "    }\n",
       "</style>\n",
       "<table border=\"1\" class=\"dataframe\">\n",
       "  <thead>\n",
       "    <tr style=\"text-align: right;\">\n",
       "      <th></th>\n",
       "      <th>num_expediente</th>\n",
       "      <th>fecha</th>\n",
       "      <th>hora</th>\n",
       "      <th>localizacion</th>\n",
       "      <th>numero</th>\n",
       "      <th>cod_distrito</th>\n",
       "      <th>distrito</th>\n",
       "      <th>tipo_accidente</th>\n",
       "      <th>estado_meteorológico</th>\n",
       "      <th>tipo_vehiculo</th>\n",
       "      <th>tipo_persona</th>\n",
       "      <th>rango_edad</th>\n",
       "      <th>sexo</th>\n",
       "      <th>cod_lesividad</th>\n",
       "      <th>lesividad</th>\n",
       "      <th>coordenada_x_utm</th>\n",
       "      <th>coordenada_y_utm</th>\n",
       "      <th>positiva_alcohol</th>\n",
       "      <th>positiva_droga</th>\n",
       "    </tr>\n",
       "  </thead>\n",
       "  <tbody>\n",
       "    <tr>\n",
       "      <th>33048</th>\n",
       "      <td>2024S026048</td>\n",
       "      <td>13/09/2024</td>\n",
       "      <td>16:23:00</td>\n",
       "      <td>AVDA. VENTISQUERO DE LA CONDESA, 8</td>\n",
       "      <td>8</td>\n",
       "      <td>8</td>\n",
       "      <td>FUENCARRAL-EL PARDO</td>\n",
       "      <td>Alcance</td>\n",
       "      <td>Despejado</td>\n",
       "      <td>Turismo</td>\n",
       "      <td>Pasajero</td>\n",
       "      <td>De 40 a 44 años</td>\n",
       "      <td>Mujer</td>\n",
       "      <td>7.0</td>\n",
       "      <td>Asistencia sanitaria sólo en el lugar del acci...</td>\n",
       "      <td>439267.0</td>\n",
       "      <td>4482067.0</td>\n",
       "      <td>N</td>\n",
       "      <td>NaN</td>\n",
       "    </tr>\n",
       "    <tr>\n",
       "      <th>5191</th>\n",
       "      <td>2024S005050</td>\n",
       "      <td>09/02/2024</td>\n",
       "      <td>17:55:00</td>\n",
       "      <td>BULEV. JOSE PRAT, 40</td>\n",
       "      <td>40</td>\n",
       "      <td>19</td>\n",
       "      <td>VICÁLVARO</td>\n",
       "      <td>Alcance</td>\n",
       "      <td>NaN</td>\n",
       "      <td>Turismo</td>\n",
       "      <td>Pasajero</td>\n",
       "      <td>De 40 a 44 años</td>\n",
       "      <td>Mujer</td>\n",
       "      <td>NaN</td>\n",
       "      <td>NaN</td>\n",
       "      <td>447347.0</td>\n",
       "      <td>4471986.0</td>\n",
       "      <td>N</td>\n",
       "      <td>NaN</td>\n",
       "    </tr>\n",
       "    <tr>\n",
       "      <th>19383</th>\n",
       "      <td>2024S017516</td>\n",
       "      <td>24/05/2024</td>\n",
       "      <td>9:10:00</td>\n",
       "      <td>CALL. JOSE DEL HIERRO / CALL. FEDERICO GUTIERREZ</td>\n",
       "      <td>5</td>\n",
       "      <td>15</td>\n",
       "      <td>CIUDAD LINEAL</td>\n",
       "      <td>Colisión fronto-lateral</td>\n",
       "      <td>Despejado</td>\n",
       "      <td>Turismo</td>\n",
       "      <td>Conductor</td>\n",
       "      <td>De 35 a 39 años</td>\n",
       "      <td>Hombre</td>\n",
       "      <td>6.0</td>\n",
       "      <td>Asistencia sanitaria inmediata en centro de sa...</td>\n",
       "      <td>445104.0</td>\n",
       "      <td>4476539.0</td>\n",
       "      <td>N</td>\n",
       "      <td>NaN</td>\n",
       "    </tr>\n",
       "    <tr>\n",
       "      <th>5255</th>\n",
       "      <td>2024S005085</td>\n",
       "      <td>06/02/2024</td>\n",
       "      <td>0:00:00</td>\n",
       "      <td>CALL. VENTURA RODRIGUEZ, 20</td>\n",
       "      <td>20</td>\n",
       "      <td>9</td>\n",
       "      <td>MONCLOA-ARAVACA</td>\n",
       "      <td>Choque contra obstáculo fijo</td>\n",
       "      <td>Lluvia débil</td>\n",
       "      <td>Turismo</td>\n",
       "      <td>Conductor</td>\n",
       "      <td>De 50 a 54 años</td>\n",
       "      <td>Hombre</td>\n",
       "      <td>NaN</td>\n",
       "      <td>NaN</td>\n",
       "      <td>439412.0</td>\n",
       "      <td>4475128.0</td>\n",
       "      <td>N</td>\n",
       "      <td>NaN</td>\n",
       "    </tr>\n",
       "    <tr>\n",
       "      <th>27064</th>\n",
       "      <td>2024S022324</td>\n",
       "      <td>17/07/2024</td>\n",
       "      <td>18:27:00</td>\n",
       "      <td>CALL. LOS EMIGRANTES, 3</td>\n",
       "      <td>3</td>\n",
       "      <td>16</td>\n",
       "      <td>HORTALEZA</td>\n",
       "      <td>Colisión múltiple</td>\n",
       "      <td>Despejado</td>\n",
       "      <td>Turismo</td>\n",
       "      <td>Conductor</td>\n",
       "      <td>De 40 a 44 años</td>\n",
       "      <td>Mujer</td>\n",
       "      <td>14.0</td>\n",
       "      <td>Sin asistencia sanitaria</td>\n",
       "      <td>446044.0</td>\n",
       "      <td>4479695.0</td>\n",
       "      <td>N</td>\n",
       "      <td>NaN</td>\n",
       "    </tr>\n",
       "    <tr>\n",
       "      <th>7194</th>\n",
       "      <td>2024S006973</td>\n",
       "      <td>24/02/2024</td>\n",
       "      <td>16:50:00</td>\n",
       "      <td>CALL. CLARA CAMPOAMOR / CALL. CARCASTILLO</td>\n",
       "      <td>75</td>\n",
       "      <td>11</td>\n",
       "      <td>CARABANCHEL</td>\n",
       "      <td>Colisión fronto-lateral</td>\n",
       "      <td>Nublado</td>\n",
       "      <td>Turismo</td>\n",
       "      <td>Conductor</td>\n",
       "      <td>De 50 a 54 años</td>\n",
       "      <td>Mujer</td>\n",
       "      <td>14.0</td>\n",
       "      <td>Sin asistencia sanitaria</td>\n",
       "      <td>437801.0</td>\n",
       "      <td>4470113.0</td>\n",
       "      <td>N</td>\n",
       "      <td>NaN</td>\n",
       "    </tr>\n",
       "    <tr>\n",
       "      <th>19610</th>\n",
       "      <td>2024S017944</td>\n",
       "      <td>25/05/2024</td>\n",
       "      <td>13:40:00</td>\n",
       "      <td>PASEO. PRADO, 34</td>\n",
       "      <td>34</td>\n",
       "      <td>1</td>\n",
       "      <td>CENTRO</td>\n",
       "      <td>Atropello a persona</td>\n",
       "      <td>Despejado</td>\n",
       "      <td>Turismo</td>\n",
       "      <td>Peatón</td>\n",
       "      <td>De 40 a 44 años</td>\n",
       "      <td>Mujer</td>\n",
       "      <td>2.0</td>\n",
       "      <td>Ingreso inferior o igual a 24 horas</td>\n",
       "      <td>441211.0</td>\n",
       "      <td>4473593.0</td>\n",
       "      <td>N</td>\n",
       "      <td>NaN</td>\n",
       "    </tr>\n",
       "    <tr>\n",
       "      <th>22680</th>\n",
       "      <td>2024S019726</td>\n",
       "      <td>13/06/2024</td>\n",
       "      <td>22:00:00</td>\n",
       "      <td>AUTOV. M-30, CALZADA INT. LATERAL PK 7.700</td>\n",
       "      <td>07NL70</td>\n",
       "      <td>3</td>\n",
       "      <td>RETIRO</td>\n",
       "      <td>Choque contra obstáculo fijo</td>\n",
       "      <td>Despejado</td>\n",
       "      <td>Furgoneta</td>\n",
       "      <td>Conductor</td>\n",
       "      <td>De 45 a 49 años</td>\n",
       "      <td>Hombre</td>\n",
       "      <td>14.0</td>\n",
       "      <td>Sin asistencia sanitaria</td>\n",
       "      <td>444098.0</td>\n",
       "      <td>4474514.0</td>\n",
       "      <td>N</td>\n",
       "      <td>NaN</td>\n",
       "    </tr>\n",
       "    <tr>\n",
       "      <th>2964</th>\n",
       "      <td>2024S002658</td>\n",
       "      <td>24/01/2024</td>\n",
       "      <td>21:30:00</td>\n",
       "      <td>CALL. ALBERTO AGUILERA / CALL. VALLEHERMOSO</td>\n",
       "      <td>1</td>\n",
       "      <td>1</td>\n",
       "      <td>CENTRO</td>\n",
       "      <td>Colisión lateral</td>\n",
       "      <td>Despejado</td>\n",
       "      <td>Turismo</td>\n",
       "      <td>Conductor</td>\n",
       "      <td>De 55 a 59 años</td>\n",
       "      <td>Hombre</td>\n",
       "      <td>14.0</td>\n",
       "      <td>Sin asistencia sanitaria</td>\n",
       "      <td>439856.0</td>\n",
       "      <td>4475726.0</td>\n",
       "      <td>N</td>\n",
       "      <td>NaN</td>\n",
       "    </tr>\n",
       "    <tr>\n",
       "      <th>16718</th>\n",
       "      <td>2024S015557</td>\n",
       "      <td>05/05/2024</td>\n",
       "      <td>21:25:00</td>\n",
       "      <td>CALL. CRISTOBAL BORDIU / CALL. MODESTO LAFUENTE</td>\n",
       "      <td>52</td>\n",
       "      <td>7</td>\n",
       "      <td>CHAMBERÍ</td>\n",
       "      <td>Caída</td>\n",
       "      <td>LLuvia intensa</td>\n",
       "      <td>Bicicleta</td>\n",
       "      <td>Conductor</td>\n",
       "      <td>De 21 a 24 años</td>\n",
       "      <td>Mujer</td>\n",
       "      <td>1.0</td>\n",
       "      <td>Atención en urgencias sin posterior ingreso</td>\n",
       "      <td>440973.0</td>\n",
       "      <td>4477147.0</td>\n",
       "      <td>N</td>\n",
       "      <td>NaN</td>\n",
       "    </tr>\n",
       "  </tbody>\n",
       "</table>\n",
       "</div>"
      ],
      "text/plain": [
       "      num_expediente       fecha      hora  \\\n",
       "33048    2024S026048  13/09/2024  16:23:00   \n",
       "5191     2024S005050  09/02/2024  17:55:00   \n",
       "19383    2024S017516  24/05/2024   9:10:00   \n",
       "5255     2024S005085  06/02/2024   0:00:00   \n",
       "27064    2024S022324  17/07/2024  18:27:00   \n",
       "7194     2024S006973  24/02/2024  16:50:00   \n",
       "19610    2024S017944  25/05/2024  13:40:00   \n",
       "22680    2024S019726  13/06/2024  22:00:00   \n",
       "2964     2024S002658  24/01/2024  21:30:00   \n",
       "16718    2024S015557  05/05/2024  21:25:00   \n",
       "\n",
       "                                           localizacion  numero  cod_distrito  \\\n",
       "33048                AVDA. VENTISQUERO DE LA CONDESA, 8       8             8   \n",
       "5191                               BULEV. JOSE PRAT, 40      40            19   \n",
       "19383  CALL. JOSE DEL HIERRO / CALL. FEDERICO GUTIERREZ       5            15   \n",
       "5255                        CALL. VENTURA RODRIGUEZ, 20      20             9   \n",
       "27064                           CALL. LOS EMIGRANTES, 3       3            16   \n",
       "7194          CALL. CLARA CAMPOAMOR / CALL. CARCASTILLO      75            11   \n",
       "19610                                  PASEO. PRADO, 34      34             1   \n",
       "22680        AUTOV. M-30, CALZADA INT. LATERAL PK 7.700  07NL70             3   \n",
       "2964        CALL. ALBERTO AGUILERA / CALL. VALLEHERMOSO       1             1   \n",
       "16718   CALL. CRISTOBAL BORDIU / CALL. MODESTO LAFUENTE      52             7   \n",
       "\n",
       "                  distrito                tipo_accidente estado_meteorológico  \\\n",
       "33048  FUENCARRAL-EL PARDO                       Alcance            Despejado   \n",
       "5191             VICÁLVARO                       Alcance                  NaN   \n",
       "19383        CIUDAD LINEAL       Colisión fronto-lateral            Despejado   \n",
       "5255       MONCLOA-ARAVACA  Choque contra obstáculo fijo         Lluvia débil   \n",
       "27064            HORTALEZA             Colisión múltiple            Despejado   \n",
       "7194           CARABANCHEL       Colisión fronto-lateral              Nublado   \n",
       "19610               CENTRO           Atropello a persona            Despejado   \n",
       "22680               RETIRO  Choque contra obstáculo fijo            Despejado   \n",
       "2964                CENTRO              Colisión lateral            Despejado   \n",
       "16718             CHAMBERÍ                         Caída       LLuvia intensa   \n",
       "\n",
       "      tipo_vehiculo tipo_persona       rango_edad    sexo  cod_lesividad  \\\n",
       "33048       Turismo     Pasajero  De 40 a 44 años   Mujer            7.0   \n",
       "5191        Turismo     Pasajero  De 40 a 44 años   Mujer            NaN   \n",
       "19383       Turismo    Conductor  De 35 a 39 años  Hombre            6.0   \n",
       "5255        Turismo    Conductor  De 50 a 54 años  Hombre            NaN   \n",
       "27064       Turismo    Conductor  De 40 a 44 años   Mujer           14.0   \n",
       "7194        Turismo    Conductor  De 50 a 54 años   Mujer           14.0   \n",
       "19610       Turismo       Peatón  De 40 a 44 años   Mujer            2.0   \n",
       "22680     Furgoneta    Conductor  De 45 a 49 años  Hombre           14.0   \n",
       "2964        Turismo    Conductor  De 55 a 59 años  Hombre           14.0   \n",
       "16718     Bicicleta    Conductor  De 21 a 24 años   Mujer            1.0   \n",
       "\n",
       "                                               lesividad  coordenada_x_utm  \\\n",
       "33048  Asistencia sanitaria sólo en el lugar del acci...          439267.0   \n",
       "5191                                                 NaN          447347.0   \n",
       "19383  Asistencia sanitaria inmediata en centro de sa...          445104.0   \n",
       "5255                                                 NaN          439412.0   \n",
       "27064                           Sin asistencia sanitaria          446044.0   \n",
       "7194                            Sin asistencia sanitaria          437801.0   \n",
       "19610                Ingreso inferior o igual a 24 horas          441211.0   \n",
       "22680                           Sin asistencia sanitaria          444098.0   \n",
       "2964                            Sin asistencia sanitaria          439856.0   \n",
       "16718        Atención en urgencias sin posterior ingreso          440973.0   \n",
       "\n",
       "       coordenada_y_utm positiva_alcohol  positiva_droga  \n",
       "33048         4482067.0                N             NaN  \n",
       "5191          4471986.0                N             NaN  \n",
       "19383         4476539.0                N             NaN  \n",
       "5255          4475128.0                N             NaN  \n",
       "27064         4479695.0                N             NaN  \n",
       "7194          4470113.0                N             NaN  \n",
       "19610         4473593.0                N             NaN  \n",
       "22680         4474514.0                N             NaN  \n",
       "2964          4475726.0                N             NaN  \n",
       "16718         4477147.0                N             NaN  "
      ]
     },
     "execution_count": 3,
     "metadata": {},
     "output_type": "execute_result"
    }
   ],
   "source": [
    "df.sample(10)"
   ]
  },
  {
   "cell_type": "markdown",
   "metadata": {},
   "source": [
    "Analisis del dataset\n"
   ]
  },
  {
   "cell_type": "markdown",
   "metadata": {},
   "source": [
    "https://datos.madrid.es/FWProjects/egob/Catalogo/Seguridad/Ficheros/Estructura_ConjuntoDatos_Accidentesv2.pdf\n"
   ]
  },
  {
   "cell_type": "markdown",
   "metadata": {},
   "source": [
    "Lo primero que nos damos cuenta cuando leemos el anterior documento es que el año del accidente no viene en la fecha, si no que viene en los 4 primeros char del numero del expediente.\n"
   ]
  },
  {
   "cell_type": "markdown",
   "metadata": {},
   "source": [
    "**localizacion** y **numero**: con la localizacion y el numero (numero de la calle) nos parece interesante quedarnosla, pero solo para la parte de entendimiento de los datos del cluster, ya que para el claster es mas util las coordenadas utm\n"
   ]
  },
  {
   "cell_type": "markdown",
   "metadata": {},
   "source": [
    "para el codigo del distrito nos va a servir para hacer el cluster, pero como el numero en si no nos dice nada, pues entonces lo que vamos a hacer un mapeo del distrito para entender y tener la correlacion\n"
   ]
  },
  {
   "cell_type": "markdown",
   "metadata": {},
   "source": [
    "para el tipo de accidente y para el estado metereologico haremos un mapeo simple de las 13 posibles variables (mapping)\n"
   ]
  },
  {
   "cell_type": "markdown",
   "metadata": {},
   "source": [
    "en tipo de vehiculo habia demasiados valroes unicos (33) por lo que hemos intentado generalizar un poco para poder tratar con esta columna, haciendo un mapeo y un posible posterior onehotencoding\n"
   ]
  },
  {
   "cell_type": "markdown",
   "metadata": {},
   "source": [
    "para el **rango de edad** vamos\n"
   ]
  },
  {
   "cell_type": "markdown",
   "metadata": {},
   "source": [
    "Entendimiento del Dataset\n"
   ]
  },
  {
   "cell_type": "markdown",
   "metadata": {},
   "source": [
    "Limpieza\n"
   ]
  },
  {
   "cell_type": "markdown",
   "metadata": {},
   "source": [
    "Explicacion de las acciones realizadas\n"
   ]
  },
  {
   "cell_type": "code",
   "execution_count": 4,
   "metadata": {},
   "outputs": [
    {
     "data": {
      "text/plain": [
       "33"
      ]
     },
     "execution_count": 4,
     "metadata": {},
     "output_type": "execute_result"
    }
   ],
   "source": [
    "len(df['tipo_vehiculo'].unique())\n"
   ]
  },
  {
   "cell_type": "code",
   "execution_count": 5,
   "metadata": {},
   "outputs": [
    {
     "data": {
      "text/plain": [
       "tipo_vehiculo\n",
       "Turismo                              27406\n",
       "Motocicleta hasta 125cc               2668\n",
       "Furgoneta                             2667\n",
       "Motocicleta > 125cc                   1469\n",
       "Autobús                               1264\n",
       "Camión rígido                          973\n",
       "Todo terreno                           706\n",
       "Bicicleta                              670\n",
       "VMU eléctrico                          665\n",
       "Ciclomotor                             387\n",
       "Bicicleta EPAC (pedaleo asistido)      211\n",
       "Tractocamión                           187\n",
       "Maquinaria de obras                    151\n",
       "Otros vehículos con motor              131\n",
       "Vehículo articulado                     70\n",
       "Autobús articulado                      69\n",
       "Sin especificar                         40\n",
       "Cuadriciclo ligero                      32\n",
       "Autobus EMT                             17\n",
       "Ciclo                                   13\n",
       "Cuadriciclo no ligero                   12\n",
       "Autocaravana                            11\n",
       "Otros vehículos sin motor                8\n",
       "Patinete no eléctrico                    5\n",
       "Moto de tres ruedas > 125cc              2\n",
       "Moto de tres ruedas hasta 125cc          2\n",
       "Ambulancia SAMUR                         2\n",
       "Ciclomotor de tres ruedas                2\n",
       "Semiremolque                             1\n",
       "Remolque                                 1\n",
       "Ciclo de motor L1e-A                     1\n",
       "Ciclomotor de dos ruedas L1e-B           1\n",
       "Name: count, dtype: int64"
      ]
     },
     "execution_count": 5,
     "metadata": {},
     "output_type": "execute_result"
    }
   ],
   "source": [
    "df['tipo_vehiculo'].value_counts()"
   ]
  },
  {
   "cell_type": "code",
   "execution_count": 6,
   "metadata": {},
   "outputs": [],
   "source": [
    "map_vehiculos = {\n",
    "    'Turismo': 'Turismos y vehículos ligeros',\n",
    "    'Todo terreno': 'Turismos y vehículos ligeros',\n",
    "    'Autocaravana': 'Turismos y vehículos ligeros',\n",
    "    'Motocicleta hasta 125cc': 'Motocicletas y ciclomotores',\n",
    "    'Motocicleta > 125cc': 'Motocicletas y ciclomotores',\n",
    "    'Ciclomotor': 'Motocicletas y ciclomotores',\n",
    "    'Bicicleta EPAC (pedaleo asistido)': 'Motocicletas y ciclomotores',\n",
    "    'Ciclomotor de tres ruedas': 'Motocicletas y ciclomotores',\n",
    "    'Moto de tres ruedas hasta 125cc': 'Motocicletas y ciclomotores',\n",
    "    'Moto de tres ruedas > 125cc': 'Motocicletas y ciclomotores',\n",
    "    'Ciclo de motor L1e-A': 'Motocicletas y ciclomotores',\n",
    "    'Ciclomotor de dos ruedas L1e-B': 'Motocicletas y ciclomotores',\n",
    "    'Furgoneta': 'Vehículos de carga',\n",
    "    'Camión rígido': 'Vehículos de carga',\n",
    "    'Tractocamión': 'Vehículos de carga',\n",
    "    'Vehículo articulado': 'Vehículos de carga',\n",
    "    'Semiremolque': 'Vehículos de carga',\n",
    "    'Remolque': 'Vehículos de carga',\n",
    "    'Autobús': 'Vehículos de transporte público',\n",
    "    'Autobús articulado': 'Vehículos de transporte público',\n",
    "    'Autobus EMT': 'Vehículos de transporte público',\n",
    "    'Bicicleta': 'Bicicletas y ciclos no motorizados',\n",
    "    'Ciclo': 'Bicicletas y ciclos no motorizados',\n",
    "    'Patinete no eléctrico': 'Bicicletas y ciclos no motorizados',\n",
    "    'VMU eléctrico': 'Vehículos eléctricos ligeros',\n",
    "    'Maquinaria de obras': 'Vehículos especializados',\n",
    "    'Ambulancia SAMUR': 'Vehículos especializados',\n",
    "    'Otros vehículos con motor': 'Vehículos especializados',\n",
    "    'Otros vehículos sin motor': 'Vehículos especializados',\n",
    "    'Sin especificar': 'Sin clasificar/especificar',\n",
    "    'Cuadriciclo ligero': 'Sin clasificar/especificar',\n",
    "    'Cuadriciclo no ligero': 'Sin clasificar/especificar'\n",
    "}"
   ]
  },
  {
   "cell_type": "code",
   "execution_count": 7,
   "metadata": {},
   "outputs": [],
   "source": [
    "df['tipo_vehiculo'] = df['tipo_vehiculo'].map(map_vehiculos)"
   ]
  },
  {
   "cell_type": "markdown",
   "metadata": {},
   "source": [
    "Mapeo de rango de edades\n"
   ]
  },
  {
   "cell_type": "code",
   "execution_count": 8,
   "metadata": {},
   "outputs": [],
   "source": [
    "map_edad = {\n",
    "    'Desconocido': -1,\n",
    "    'Menor de 5 años': 0,\n",
    "    'De 6 a 9 años': 0,\n",
    "    'De 10 a 14 años': 10,\n",
    "    'De 15 a 17 años': 10,\n",
    "    'De 18 a 20 años': 18,\n",
    "    'De 21 a 24 años': 18,\n",
    "    'De 25 a 29 años': 25,\n",
    "    'De 30 a 34 años': 25,\n",
    "    'De 35 a 39 años': 25,\n",
    "    'De 40 a 44 años': 40,\n",
    "    'De 45 a 49 años': 40,\n",
    "    'De 50 a 54 años': 40,\n",
    "    'De 55 a 59 años': 40,\n",
    "    'De 60 a 64 años': 60,\n",
    "    'De 65 a 69 años': 60,\n",
    "    'De 70 a 74 años': 60,\n",
    "    'Más de 74 años': 60\n",
    "}"
   ]
  },
  {
   "cell_type": "code",
   "execution_count": 9,
   "metadata": {},
   "outputs": [],
   "source": [
    "df['rango_edad'] = df['rango_edad'].map(map_edad)"
   ]
  },
  {
   "cell_type": "code",
   "execution_count": 19,
   "metadata": {},
   "outputs": [
    {
     "name": "stdout",
     "output_type": "stream",
     "text": [
      "[40 25 60 18 -1 10  0]\n",
      "40\n",
      "25\n",
      "60\n",
      "18\n",
      "-1\n",
      "10\n",
      "0\n"
     ]
    }
   ],
   "source": [
    "valores_edad = df['rango_edad'].unique()\n"
   ]
  },
  {
   "cell_type": "code",
   "execution_count": 17,
   "metadata": {},
   "outputs": [
    {
     "name": "stdout",
     "output_type": "stream",
     "text": [
      "None\n"
     ]
    }
   ],
   "source": [
    "print(valores_edad.sort())"
   ]
  },
  {
   "cell_type": "markdown",
   "metadata": {},
   "source": [
    "Explicación: Para simplificar y transformar esta columna, debido a que estaba definida con rangos, hemos decidido solo poner los valores con los que empieza el rango"
   ]
  },
  {
   "cell_type": "markdown",
   "metadata": {},
   "source": [
    "Mapeo de estado meteorológico\n"
   ]
  },
  {
   "cell_type": "code",
   "execution_count": 10,
   "metadata": {},
   "outputs": [
    {
     "name": "stdout",
     "output_type": "stream",
     "text": [
      "['Lluvia débil' 'Despejado' 'Se desconoce' 'Nublado' 'LLuvia intensa'\n",
      " 'Granizando' 'Nevando']\n"
     ]
    }
   ],
   "source": [
    "df = df.fillna({\n",
    "    'estado_meteorológico': 'Se desconoce'\n",
    "})\n",
    "\n",
    "print(df['estado_meteorológico'].unique())\n",
    "\n",
    "map_est_met = {\n",
    "    'Se Desconoce': -1,\n",
    "    'Despejado': 0,\n",
    "    'Nublado': 1,\n",
    "    'Lluvia débil': 2,\n",
    "    'LLuvia intensa': 3,\n",
    "    'Granizando': 4,\n",
    "    'Nevando': 5\n",
    "}\n",
    "\n",
    "df['estado_meteorológico'] = df['estado_meteorológico'].map(map_est_met)"
   ]
  },
  {
   "cell_type": "markdown",
   "metadata": {},
   "source": [
    "Mapeo Lesividad\n"
   ]
  },
  {
   "cell_type": "code",
   "execution_count": null,
   "metadata": {},
   "outputs": [],
   "source": [
    "print(df['lesividad'].unique())"
   ]
  },
  {
   "cell_type": "code",
   "execution_count": null,
   "metadata": {},
   "outputs": [],
   "source": [
    "df = df.fillna({\n",
    "    'lesividad': 'Sin asistencia sanitaria',\n",
    "    'cod_lesividad': 0\n",
    "})\n",
    "\n",
    "map_lesividad = {\n",
    "    'Sin asistencia sanitaria': 'NONE',\n",
    "    'Atención en urgencias sin posterior ingreso': 'LEVE',\n",
    "    'Ingreso inferior o igual a 24 horas': 'LEVE',\n",
    "    'Asistencia sanitaria ambulatoria con posterioridad': 'LEVE',\n",
    "    'Asistencia sanitaria inmediata en centro de salud o mutua': 'LEVE',\n",
    "    'Asistencia sanitaria sólo en el lugar del accidente': 'LEVE',\n",
    "    'Ingreso inferior o igual a 24 horas': 'GRAVE',\n",
    "    'Fallecido 24 horas': 'FALLECIDO'\n",
    "}"
   ]
  },
  {
   "cell_type": "code",
   "execution_count": null,
   "metadata": {},
   "outputs": [],
   "source": [
    "df['lesividad'] = df['lesividad'].map(map_lesividad)"
   ]
  },
  {
   "cell_type": "code",
   "execution_count": null,
   "metadata": {},
   "outputs": [],
   "source": [
    "df['lesividad'].value_counts()"
   ]
  },
  {
   "cell_type": "markdown",
   "metadata": {},
   "source": [
    "Mapeo Alcohol y drogas\n"
   ]
  },
  {
   "cell_type": "code",
   "execution_count": null,
   "metadata": {},
   "outputs": [],
   "source": [
    "df = df.fillna({\n",
    "    'positiva_droga': 0\n",
    "})\n",
    "\n",
    "map_alcohol = {\n",
    "    'N': 0,\n",
    "    'S': 1\n",
    "}\n",
    "\n",
    "df['positiva_alcohol'] = df['positiva_alcohol'].map(map_alcohol)"
   ]
  },
  {
   "cell_type": "code",
   "execution_count": null,
   "metadata": {},
   "outputs": [],
   "source": [
    "print('valores de positivos en alcohol: \\n {} \\n valores de positivos en droga: \\n {}'.format(\n",
    "    df['positiva_alcohol'].value_counts(),df['positiva_droga'].value_counts()\n",
    "    ))"
   ]
  },
  {
   "cell_type": "code",
   "execution_count": null,
   "metadata": {},
   "outputs": [],
   "source": [
    "df.head(10)"
   ]
  },
  {
   "cell_type": "code",
   "execution_count": null,
   "metadata": {},
   "outputs": [],
   "source": [
    "df['rango_edad'].value_counts()"
   ]
  },
  {
   "cell_type": "code",
   "execution_count": null,
   "metadata": {},
   "outputs": [],
   "source": [
    "df.columns"
   ]
  },
  {
   "cell_type": "code",
   "execution_count": null,
   "metadata": {},
   "outputs": [],
   "source": [
    "df['cod_lesividad'].unique()"
   ]
  },
  {
   "cell_type": "code",
   "execution_count": null,
   "metadata": {},
   "outputs": [],
   "source": [
    "df['cod_lesividad'] = df['cod_lesividad'].astype(int)"
   ]
  },
  {
   "cell_type": "code",
   "execution_count": null,
   "metadata": {},
   "outputs": [],
   "source": [
    "df['year'] = df['num_expediente'].astype(str).str[:4].astype(int)\n",
    "df['id'] = df['num_expediente'].astype(str).str[-6:]"
   ]
  },
  {
   "cell_type": "code",
   "execution_count": null,
   "metadata": {},
   "outputs": [],
   "source": [
    "df['year'].value_counts()"
   ]
  },
  {
   "cell_type": "code",
   "execution_count": null,
   "metadata": {},
   "outputs": [],
   "source": [
    "df = pd.get_dummies(df, columns=['tipo_persona'])"
   ]
  },
  {
   "cell_type": "code",
   "execution_count": null,
   "metadata": {},
   "outputs": [],
   "source": [
    "df.head(10)"
   ]
  },
  {
   "cell_type": "code",
   "execution_count": null,
   "metadata": {},
   "outputs": [],
   "source": [
    "df.columns"
   ]
  },
  {
   "cell_type": "code",
   "execution_count": null,
   "metadata": {},
   "outputs": [],
   "source": [
    "mapeo_accidentes = {\n",
    "    'NONE':0,\n",
    "    'LEVE':1,\n",
    "    'GRAVE':2,\n",
    "    'FALLECIDO':3\n",
    "}\n",
    "\n",
    "df['lesividad'] = df['lesividad'].map(mapeo_accidentes)"
   ]
  },
  {
   "cell_type": "code",
   "execution_count": null,
   "metadata": {},
   "outputs": [],
   "source": [
    "map_tipo_accidente = {\n",
    "    'Colisión fronto-lateral': 'Colision doble',\n",
    "    'Alcance': 'Alcance',\n",
    "    'Colisión lateral': 'Colision doble',\n",
    "    'Choque contra obstáculo fijo':'Choque',\n",
    "    'Atropello a persona': 'Atropello a persona',\n",
    "    'Caída':'Caida',\n",
    "    'Colisión múltiple':'Colision multiple',\n",
    "    'Colisión frontal':'Colision doble',\n",
    "    'Otro':'Otras Causas',\n",
    "    'Solo salida de la vía': 'Otras Causas',\n",
    "    'Vuelco': 'Vuelco',\n",
    "    'Atropello a animal': 'Otras Causas'\n",
    "}\n",
    "\n",
    "df['tipo_accidente'] = df['tipo_accidente'].map(map_tipo_accidente)"
   ]
  },
  {
   "cell_type": "code",
   "execution_count": null,
   "metadata": {},
   "outputs": [],
   "source": [
    "df['hora'] = df['hora'].str.split(':').str[0].astype(int)\n",
    "df['hora'].value_counts()"
   ]
  },
  {
   "cell_type": "code",
   "execution_count": null,
   "metadata": {},
   "outputs": [],
   "source": [
    "df_entrenamiento = df.drop(columns=['num_expediente', 'localizacion', 'numero', 'distrito', 'lesividad'], axis=1)"
   ]
  },
  {
   "cell_type": "code",
   "execution_count": null,
   "metadata": {},
   "outputs": [],
   "source": [
    "df_entrenamiento.head(10)"
   ]
  },
  {
   "cell_type": "markdown",
   "metadata": {},
   "source": [
    "Group by por id de accidente:\n",
    "\n",
    "-   Hora a solo la hora\n",
    "-   Rango de edad a sumatorio de edades\n",
    "-   Tipo vehiculo one hot encoding y suma\n",
    "-   Tipo de persona one hot encoding y suma\n",
    "-   Sexo one hot encoding y suma\n",
    "-   Positivo en drogas y alcohol sumar el numero de positivos\n",
    "-   Lesividad la mas alta\n"
   ]
  },
  {
   "cell_type": "code",
   "execution_count": null,
   "metadata": {},
   "outputs": [],
   "source": []
  }
 ],
 "metadata": {
  "kernelspec": {
   "display_name": ".venv",
   "language": "python",
   "name": "python3"
  },
  "language_info": {
   "codemirror_mode": {
    "name": "ipython",
    "version": 3
   },
   "file_extension": ".py",
   "mimetype": "text/x-python",
   "name": "python",
   "nbconvert_exporter": "python",
   "pygments_lexer": "ipython3",
   "version": "3.9.20"
  }
 },
 "nbformat": 4,
 "nbformat_minor": 2
}
