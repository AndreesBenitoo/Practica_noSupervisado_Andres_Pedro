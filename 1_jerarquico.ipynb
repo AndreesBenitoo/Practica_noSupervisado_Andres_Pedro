{
 "cells": [
  {
   "cell_type": "markdown",
   "metadata": {},
   "source": [
    "# Accidentes de Tráficos en Madrid (Jerárquico)"
   ]
  },
  {
   "cell_type": "markdown",
   "metadata": {},
   "source": [
    "## Descripción del DataSet"
   ]
  },
  {
   "cell_type": "markdown",
   "metadata": {},
   "source": [
    "Objetivo: Realiza un análisis descriptivo del dataset. Analiza la distribución de los datos por cada una de las columnas, realiza los pasos de pre-procesamiento necesarios, justificando adecuadamente las acciones tomadas. Se deberá hacer uso de gráficas para entender los datos y las decisiones adoptadas."
   ]
  },
  {
   "cell_type": "code",
   "execution_count": 1,
   "metadata": {},
   "outputs": [],
   "source": [
    "# Importación de librerías necesarias\n",
    "\n",
    "# Librería para manipulación y análisis de datos estructurados\n",
    "import pandas as pd\n",
    "\n",
    "# Librería para operaciones matemáticas y manipulación de arreglos numéricos.\n",
    "import numpy as np\n",
    "\n",
    "# Librería basada en matplotlib para realizar gráficos estadísticos con una interfaz más amigable.\n",
    "import seaborn as sns\n",
    "\n",
    "# Módulo de matplotlib utilizado específicamente para crear gráficos 2D.\n",
    "import matplotlib.pyplot as plt"
   ]
  },
  {
   "cell_type": "code",
   "execution_count": 2,
   "metadata": {},
   "outputs": [],
   "source": [
    "# Carga del conjunto de datos desde un archivo CSV\n",
    "# delimiter=';': Indica que los campos en el archivo CSV están separados por punto y coma (;)\n",
    "df = pd.read_csv('./data/2024_Accidentalidad.csv', delimiter=';')"
   ]
  },
  {
   "cell_type": "markdown",
   "metadata": {},
   "source": [
    "### Entendimiento del DataSet"
   ]
  },
  {
   "cell_type": "markdown",
   "metadata": {},
   "source": [
    "Para empezar vamos a visualizar rapidamente que forma tiene el dataset, columnas, tipos de las columnas, nulos, etc"
   ]
  },
  {
   "cell_type": "code",
   "execution_count": null,
   "metadata": {},
   "outputs": [],
   "source": [
    "# Visualizamos las 10 primeras lineas para verificar que se ha cargado todo el dataset\n",
    "df.head(10)"
   ]
  },
  {
   "cell_type": "code",
   "execution_count": null,
   "metadata": {},
   "outputs": [],
   "source": [
    "df.info()"
   ]
  },
  {
   "cell_type": "code",
   "execution_count": null,
   "metadata": {},
   "outputs": [],
   "source": [
    "df.isnull().sum()"
   ]
  },
  {
   "cell_type": "code",
   "execution_count": null,
   "metadata": {},
   "outputs": [],
   "source": [
    "plt.figure(dpi=200)\n",
    "sns.pairplot(df)"
   ]
  },
  {
   "cell_type": "code",
   "execution_count": null,
   "metadata": {},
   "outputs": [],
   "source": [
    "len(df['num_expediente'].unique())"
   ]
  },
  {
   "cell_type": "markdown",
   "metadata": {},
   "source": [
    "Analisis del dataset\n"
   ]
  },
  {
   "cell_type": "markdown",
   "metadata": {},
   "source": [
    "https://datos.madrid.es/FWProjects/egob/Catalogo/Seguridad/Ficheros/Estructura_ConjuntoDatos_Accidentesv2.pdf\n"
   ]
  },
  {
   "cell_type": "markdown",
   "metadata": {},
   "source": [
    "Lo primero que nos damos cuenta cuando leemos el anterior documento es que el año del accidente no viene en la fecha, si no que viene en los 4 primeros char del numero del expediente.\n"
   ]
  },
  {
   "cell_type": "markdown",
   "metadata": {},
   "source": [
    "### Análisis de las Columnas del Dataset de Accidentes de Tráfico en Madrid\n",
    "\n",
    "---\n",
    "\n",
    "#### 1. `num_expediente`\n",
    "- **Descripción**: Identificador único del expediente del accidente.\n",
    "- **Formato**: Texto con estructura `AAAASNNNNNN`, donde:\n",
    "  - `AAAA`: Año del accidente.\n",
    "  - `S`: Indica que se trata de un expediente de accidente.\n",
    "- **Notas**: Es único para cada accidente y se utiliza para diferenciar registros.\n",
    "- **Posible Forma de Actuar**: Esta columna la vamos a dividir en solo el numero del expediente, \n",
    "\n",
    "---\n",
    "\n",
    "#### 2. `fecha`\n",
    "- **Descripción**: Fecha en la que ocurrió el accidente.\n",
    "- **Formato**: `dd/mm/aaaa`.\n",
    "- **Notas**: Permite realizar análisis temporales, como la distribución de accidentes por días o meses.\n",
    "- **Posible Forma de Actuar**: \n",
    "\n",
    "---\n",
    "\n",
    "#### 3. `hora`\n",
    "- **Descripción**: Hora del accidente agrupada en rangos horarios de una hora.\n",
    "- **Formato**: Hora.\n",
    "- **Notas**: Útil para identificar franjas horarias con mayor incidencia de accidentes.\n",
    "- **Posible Forma de Actuar**: \n",
    "\n",
    "---\n",
    "\n",
    "#### 4. `localizacion`\n",
    "- **Descripción**: Ubicación específica del accidente, indicando calles implicadas.\n",
    "- **Formato**: Texto que describe cruces o calles (e.g., \"Calle 1 - Calle 2\").\n",
    "- **Notas**: Permite estudiar patrones geográficos de accidentes.\n",
    "- **Posible Forma de Actuar**: \n",
    "\n",
    "---\n",
    "\n",
    "#### 5. `numero`\n",
    "- **Descripción**: Número de la calle donde ocurrió el accidente (si aplica).\n",
    "- **Formato**: Número entero.\n",
    "- **Notas**: Detalla una ubicación más específica dentro de una calle.\n",
    "- **Posible Forma de Actuar**: \n",
    "\n",
    "---\n",
    "\n",
    "#### 6. `cod_distrito`\n",
    "- **Descripción**: Código numérico del distrito municipal donde ocurrió el accidente.\n",
    "- **Formato**: Número.\n",
    "- **Notas**: Útil para análisis por distritos, como mapas de calor.\n",
    "- **Posible Forma de Actuar**: \n",
    "\n",
    "---\n",
    "\n",
    "#### 7. `distrito`\n",
    "- **Descripción**: Nombre del distrito municipal asociado al accidente.\n",
    "- **Formato**: Texto.\n",
    "- **Notas**: Más descriptivo que `cod_distrito`, útil para presentar resultados.\n",
    "- **Posible Forma de Actuar**: \n",
    "\n",
    "---\n",
    "\n",
    "#### 8. `tipo_accidente`\n",
    "- **Descripción**: Categoría del accidente según su tipología.\n",
    "- **Formato**: Texto.\n",
    "- **Valores comunes**:\n",
    "  - *Colisión doble*: Dos vehículos en movimiento.\n",
    "  - *Colisión múltiple*: Más de dos vehículos en movimiento.\n",
    "  - *Atropello a persona*: Accidente con peatón.\n",
    "  - *Choque contra obstáculo*: Colisión con un objeto inmóvil.\n",
    "  - *Caída*: Relacionada con vehículos de dos ruedas o viajeros de transporte público.\n",
    "  - *Otras causas*: Incluye despeñamientos, salidas de vía, entre otros.\n",
    "- **Posible Forma de Actuar**: \n",
    "\n",
    "---\n",
    "\n",
    "#### 9. `estado_meteorologico`\n",
    "- **Descripción**: Condiciones climáticas al momento del accidente.\n",
    "- **Formato**: Texto.\n",
    "- **Notas**: Permite analizar la influencia del clima en la siniestralidad.\n",
    "- **Posible Forma de Actuar**: \n",
    "\n",
    "---\n",
    "\n",
    "#### 10. `tipo_vehiculo`\n",
    "- **Descripción**: Tipo de vehículo implicado en el accidente.\n",
    "- **Formato**: Texto.\n",
    "- **Notas**: Útil para identificar patrones asociados a diferentes tipos de vehículos (e.g., coches, motocicletas, bicicletas).\n",
    "- **Posible Forma de Actuar**: \n",
    "\n",
    "---\n",
    "\n",
    "#### 11. `tipo_persona`\n",
    "- **Descripción**: Rol de la persona implicada (e.g., conductor, peatón, pasajero).\n",
    "- **Formato**: Texto.\n",
    "- **Notas**: Importante para analizar la incidencia en distintos tipos de participantes.\n",
    "- **Posible Forma de Actuar**: \n",
    "\n",
    "---\n",
    "\n",
    "#### 12. `rango_edad`\n",
    "- **Descripción**: Rango de edad de la persona implicada.\n",
    "- **Formato**: Texto.\n",
    "- **Notas**: Permite identificar si ciertos grupos de edad están más involucrados en accidentes.\n",
    "- **Posible Forma de Actuar**: \n",
    "\n",
    "---\n",
    "\n",
    "#### 13. `sexo`\n",
    "- **Descripción**: Género de la persona implicada.\n",
    "- **Formato**: `hombre`, `mujer`, o `no asignado`.\n",
    "- **Notas**: Ayuda en análisis demográficos.\n",
    "- **Posible Forma de Actuar**: \n",
    "\n",
    "---\n",
    "\n",
    "#### 14. `cod_lesividad` y `lesividad`\n",
    "- **Descripción**:\n",
    "  - `cod_lesividad`: Código que indica la gravedad de las lesiones.\n",
    "  - `lesividad`: Descripción textual de la gravedad.\n",
    "- **Valores comunes**:\n",
    "  - *01*: Atención en urgencias sin ingreso.\n",
    "  - *02*: Ingreso ≤ 24 horas.\n",
    "  - *03*: Ingreso > 24 horas.\n",
    "  - *04*: Fallecido en 24 horas.\n",
    "  - *05*: Asistencia ambulatoria posterior.\n",
    "  - *07*: Asistencia en el lugar.\n",
    "  - *14*: Sin asistencia sanitaria.\n",
    "  - *77*: Desconocido.\n",
    "- **Notas**: Permite analizar la gravedad y su distribución.\n",
    "- **Posible Forma de Actuar**: \n",
    "\n",
    "---\n",
    "\n",
    "#### 15. `coordenada_x_utm` y `coordenada_y_utm`\n",
    "- **Descripción**: Coordenadas UTM (Universal Transverse Mercator) que indican la ubicación del accidente.\n",
    "- **Formato**: Números.\n",
    "- **Notas**: Necesario para visualizaciones geográficas.\n",
    "- **Posible Forma de Actuar**: \n",
    "\n",
    "---\n",
    "\n",
    "#### 16. `positiva_alcohol`\n",
    "- **Descripción**: Indica si la persona implicada dio positivo en alcohol.\n",
    "- **Formato**: `S` (Sí) o `N` (No).\n",
    "- **Notas**: Útil para estudios relacionados con el consumo de alcohol.\n",
    "- **Posible Forma de Actuar**: \n",
    "\n",
    "---\n",
    "\n",
    "#### 17. `positiva_droga`\n",
    "- **Descripción**: Indica si la persona implicada dio positivo en drogas.\n",
    "- **Formato**: `NULL` o `1`.\n",
    "- **Notas**: Similar a `positiva_alcohol`, permite explorar correlaciones entre consumo de drogas y accidentes.\n",
    "- **Posible Forma de Actuar**: \n",
    "\n",
    "---\n",
    "\n",
    "#### Conclusión\n",
    "El dataset está diseñado para realizar análisis descriptivos, geográficos y estadísticos sobre accidentes de tráfico. Su estructura permite explorar relaciones entre factores como ubicación, clima, tipo de accidente y severidad de las lesiones.\n",
    "\n",
    "---\n"
   ]
  },
  {
   "cell_type": "markdown",
   "metadata": {},
   "source": [
    "**localizacion** y **numero**: con la localizacion y el numero (numero de la calle) nos parece interesante quedarnosla, pero solo para la parte de entendimiento de los datos del cluster, ya que para el claster es mas util las coordenadas utm\n"
   ]
  },
  {
   "cell_type": "markdown",
   "metadata": {},
   "source": [
    "para el codigo del distrito nos va a servir para hacer el cluster, pero como el numero en si no nos dice nada, pues entonces lo que vamos a hacer un mapeo del distrito para entender y tener la correlacion\n"
   ]
  },
  {
   "cell_type": "markdown",
   "metadata": {},
   "source": [
    "para el tipo de accidente y para el estado metereologico haremos un mapeo simple de las 13 posibles variables (mapping)\n"
   ]
  },
  {
   "cell_type": "markdown",
   "metadata": {},
   "source": [
    "en tipo de vehiculo habia demasiados valroes unicos (33) por lo que hemos intentado generalizar un poco para poder tratar con esta columna, haciendo un mapeo y un posible posterior onehotencoding\n"
   ]
  },
  {
   "cell_type": "markdown",
   "metadata": {},
   "source": [
    "para el **rango de edad** vamos\n"
   ]
  },
  {
   "cell_type": "markdown",
   "metadata": {},
   "source": [
    "Entendimiento del Dataset\n"
   ]
  },
  {
   "cell_type": "markdown",
   "metadata": {},
   "source": [
    "Limpieza\n"
   ]
  },
  {
   "cell_type": "markdown",
   "metadata": {},
   "source": [
    "Explicacion de las acciones realizadas\n"
   ]
  },
  {
   "cell_type": "code",
   "execution_count": null,
   "metadata": {},
   "outputs": [],
   "source": [
    "len(df['tipo_vehiculo'].unique())\n"
   ]
  },
  {
   "cell_type": "code",
   "execution_count": null,
   "metadata": {},
   "outputs": [],
   "source": [
    "df['tipo_vehiculo'].value_counts()"
   ]
  },
  {
   "cell_type": "code",
   "execution_count": 19,
   "metadata": {},
   "outputs": [],
   "source": [
    "map_vehiculos = {\n",
    "    'Turismo': 'Turismos y vehículos ligeros',\n",
    "    'Todo terreno': 'Turismos y vehículos ligeros',\n",
    "    'Autocaravana': 'Turismos y vehículos ligeros',\n",
    "    'Motocicleta hasta 125cc': 'Motocicletas y ciclomotores',\n",
    "    'Motocicleta > 125cc': 'Motocicletas y ciclomotores',\n",
    "    'Ciclomotor': 'Motocicletas y ciclomotores',\n",
    "    'Bicicleta EPAC (pedaleo asistido)': 'Motocicletas y ciclomotores',\n",
    "    'Ciclomotor de tres ruedas': 'Motocicletas y ciclomotores',\n",
    "    'Moto de tres ruedas hasta 125cc': 'Motocicletas y ciclomotores',\n",
    "    'Moto de tres ruedas > 125cc': 'Motocicletas y ciclomotores',\n",
    "    'Ciclo de motor L1e-A': 'Motocicletas y ciclomotores',\n",
    "    'Ciclomotor de dos ruedas L1e-B': 'Motocicletas y ciclomotores',\n",
    "    'Furgoneta': 'Vehículos de carga',\n",
    "    'Camión rígido': 'Vehículos de carga',\n",
    "    'Tractocamión': 'Vehículos de carga',\n",
    "    'Vehículo articulado': 'Vehículos de carga',\n",
    "    'Semiremolque': 'Vehículos de carga',\n",
    "    'Remolque': 'Vehículos de carga',\n",
    "    'Autobús': 'Vehículos de transporte público',\n",
    "    'Autobús articulado': 'Vehículos de transporte público',\n",
    "    'Autobus EMT': 'Vehículos de transporte público',\n",
    "    'Bicicleta': 'Bicicletas y ciclos no motorizados',\n",
    "    'Ciclo': 'Bicicletas y ciclos no motorizados',\n",
    "    'Patinete no eléctrico': 'Bicicletas y ciclos no motorizados',\n",
    "    'VMU eléctrico': 'Vehículos eléctricos ligeros',\n",
    "    'Maquinaria de obras': 'Vehículos especializados',\n",
    "    'Ambulancia SAMUR': 'Vehículos especializados',\n",
    "    'Otros vehículos con motor': 'Vehículos especializados',\n",
    "    'Otros vehículos sin motor': 'Vehículos especializados',\n",
    "    'Sin especificar': 'Sin clasificar/especificar',\n",
    "    'Cuadriciclo ligero': 'Sin clasificar/especificar',\n",
    "    'Cuadriciclo no ligero': 'Sin clasificar/especificar'\n",
    "}"
   ]
  },
  {
   "cell_type": "code",
   "execution_count": 20,
   "metadata": {},
   "outputs": [],
   "source": [
    "df['tipo_vehiculo'] = df['tipo_vehiculo'].map(map_vehiculos)"
   ]
  },
  {
   "cell_type": "markdown",
   "metadata": {},
   "source": [
    "Mapeo de rango de edades\n"
   ]
  },
  {
   "cell_type": "code",
   "execution_count": 21,
   "metadata": {},
   "outputs": [],
   "source": [
    "map_edad = {\n",
    "    'Desconocido': -1,\n",
    "    'Menor de 5 años': 0,\n",
    "    'De 6 a 9 años': 0,\n",
    "    'De 10 a 14 años': 10,\n",
    "    'De 15 a 17 años': 10,\n",
    "    'De 18 a 20 años': 18,\n",
    "    'De 21 a 24 años': 18,\n",
    "    'De 25 a 29 años': 25,\n",
    "    'De 30 a 34 años': 25,\n",
    "    'De 35 a 39 años': 25,\n",
    "    'De 40 a 44 años': 40,\n",
    "    'De 45 a 49 años': 40,\n",
    "    'De 50 a 54 años': 40,\n",
    "    'De 55 a 59 años': 40,\n",
    "    'De 60 a 64 años': 60,\n",
    "    'De 65 a 69 años': 60,\n",
    "    'De 70 a 74 años': 60,\n",
    "    'Más de 74 años': 60\n",
    "}"
   ]
  },
  {
   "cell_type": "code",
   "execution_count": 22,
   "metadata": {},
   "outputs": [],
   "source": [
    "df['rango_edad'] = df['rango_edad'].map(map_edad)"
   ]
  },
  {
   "cell_type": "code",
   "execution_count": 23,
   "metadata": {},
   "outputs": [],
   "source": [
    "valores_edad = df['rango_edad'].unique()\n"
   ]
  },
  {
   "cell_type": "code",
   "execution_count": null,
   "metadata": {},
   "outputs": [],
   "source": [
    "print(valores_edad.sort())"
   ]
  },
  {
   "cell_type": "markdown",
   "metadata": {},
   "source": [
    "Explicación: Para simplificar y transformar esta columna, debido a que estaba definida con rangos, hemos decidido solo poner los valores con los que empieza el rango"
   ]
  },
  {
   "cell_type": "markdown",
   "metadata": {},
   "source": [
    "Mapeo de estado meteorológico\n"
   ]
  },
  {
   "cell_type": "code",
   "execution_count": null,
   "metadata": {},
   "outputs": [],
   "source": [
    "df = df.fillna({\n",
    "    'estado_meteorológico': 'Se desconoce'\n",
    "})\n",
    "\n",
    "print(df['estado_meteorológico'].unique())\n",
    "\n",
    "map_est_met = {\n",
    "    'Se Desconoce': -1,\n",
    "    'Despejado': 0,\n",
    "    'Nublado': 1,\n",
    "    'Lluvia débil': 2,\n",
    "    'LLuvia intensa': 3,\n",
    "    'Granizando': 4,\n",
    "    'Nevando': 5\n",
    "}\n",
    "\n",
    "df['estado_meteorológico'] = df['estado_meteorológico'].map(map_est_met)"
   ]
  },
  {
   "cell_type": "markdown",
   "metadata": {},
   "source": [
    "Mapeo Lesividad\n"
   ]
  },
  {
   "cell_type": "code",
   "execution_count": null,
   "metadata": {},
   "outputs": [],
   "source": [
    "print(df['lesividad'].unique())"
   ]
  },
  {
   "cell_type": "code",
   "execution_count": 27,
   "metadata": {},
   "outputs": [],
   "source": [
    "df = df.fillna({\n",
    "    'lesividad': 'Sin asistencia sanitaria',\n",
    "    'cod_lesividad': 0\n",
    "})\n",
    "\n",
    "map_lesividad = {\n",
    "    'Sin asistencia sanitaria': 'NONE',\n",
    "    'Atención en urgencias sin posterior ingreso': 'LEVE',\n",
    "    'Ingreso inferior o igual a 24 horas': 'LEVE',\n",
    "    'Asistencia sanitaria ambulatoria con posterioridad': 'LEVE',\n",
    "    'Asistencia sanitaria inmediata en centro de salud o mutua': 'LEVE',\n",
    "    'Asistencia sanitaria sólo en el lugar del accidente': 'LEVE',\n",
    "    'Ingreso inferior o igual a 24 horas': 'GRAVE',\n",
    "    'Fallecido 24 horas': 'FALLECIDO'\n",
    "}"
   ]
  },
  {
   "cell_type": "code",
   "execution_count": 28,
   "metadata": {},
   "outputs": [],
   "source": [
    "df['lesividad'] = df['lesividad'].map(map_lesividad)"
   ]
  },
  {
   "cell_type": "code",
   "execution_count": null,
   "metadata": {},
   "outputs": [],
   "source": [
    "df['lesividad'].value_counts()"
   ]
  },
  {
   "cell_type": "markdown",
   "metadata": {},
   "source": [
    "Mapeo Alcohol y drogas\n"
   ]
  },
  {
   "cell_type": "code",
   "execution_count": 30,
   "metadata": {},
   "outputs": [],
   "source": [
    "df = df.fillna({\n",
    "    'positiva_droga': 0\n",
    "})\n",
    "\n",
    "map_alcohol = {\n",
    "    'N': 0,\n",
    "    'S': 1\n",
    "}\n",
    "\n",
    "df['positiva_alcohol'] = df['positiva_alcohol'].map(map_alcohol)"
   ]
  },
  {
   "cell_type": "code",
   "execution_count": null,
   "metadata": {},
   "outputs": [],
   "source": [
    "print('valores de positivos en alcohol: \\n {} \\n valores de positivos en droga: \\n {}'.format(\n",
    "    df['positiva_alcohol'].value_counts(),df['positiva_droga'].value_counts()\n",
    "    ))"
   ]
  },
  {
   "cell_type": "code",
   "execution_count": null,
   "metadata": {},
   "outputs": [],
   "source": [
    "df.head(10)"
   ]
  },
  {
   "cell_type": "code",
   "execution_count": null,
   "metadata": {},
   "outputs": [],
   "source": [
    "df['rango_edad'].value_counts()"
   ]
  },
  {
   "cell_type": "code",
   "execution_count": null,
   "metadata": {},
   "outputs": [],
   "source": [
    "df.columns"
   ]
  },
  {
   "cell_type": "code",
   "execution_count": null,
   "metadata": {},
   "outputs": [],
   "source": [
    "df['cod_lesividad'].unique()"
   ]
  },
  {
   "cell_type": "code",
   "execution_count": 36,
   "metadata": {},
   "outputs": [],
   "source": [
    "df['cod_lesividad'] = df['cod_lesividad'].astype(int)"
   ]
  },
  {
   "cell_type": "code",
   "execution_count": 37,
   "metadata": {},
   "outputs": [],
   "source": [
    "df['year'] = df['num_expediente'].astype(str).str[:4].astype(int)\n",
    "df['id'] = df['num_expediente'].astype(str).str[-6:]"
   ]
  },
  {
   "cell_type": "code",
   "execution_count": null,
   "metadata": {},
   "outputs": [],
   "source": [
    "df['year'].value_counts()"
   ]
  },
  {
   "cell_type": "code",
   "execution_count": 39,
   "metadata": {},
   "outputs": [],
   "source": [
    "df = pd.get_dummies(df, columns=['tipo_persona'])"
   ]
  },
  {
   "cell_type": "code",
   "execution_count": null,
   "metadata": {},
   "outputs": [],
   "source": [
    "df.head(10)"
   ]
  },
  {
   "cell_type": "code",
   "execution_count": null,
   "metadata": {},
   "outputs": [],
   "source": [
    "df.columns"
   ]
  },
  {
   "cell_type": "code",
   "execution_count": 42,
   "metadata": {},
   "outputs": [],
   "source": [
    "mapeo_accidentes = {\n",
    "    'NONE':0,\n",
    "    'LEVE':1,\n",
    "    'GRAVE':2,\n",
    "    'FALLECIDO':3\n",
    "}\n",
    "\n",
    "df['lesividad'] = df['lesividad'].map(mapeo_accidentes)"
   ]
  },
  {
   "cell_type": "code",
   "execution_count": 43,
   "metadata": {},
   "outputs": [],
   "source": [
    "map_tipo_accidente = {\n",
    "    'Colisión fronto-lateral': 'Colision doble',\n",
    "    'Alcance': 'Alcance',\n",
    "    'Colisión lateral': 'Colision doble',\n",
    "    'Choque contra obstáculo fijo':'Choque',\n",
    "    'Atropello a persona': 'Atropello a persona',\n",
    "    'Caída':'Caida',\n",
    "    'Colisión múltiple':'Colision multiple',\n",
    "    'Colisión frontal':'Colision doble',\n",
    "    'Otro':'Otras Causas',\n",
    "    'Solo salida de la vía': 'Otras Causas',\n",
    "    'Vuelco': 'Vuelco',\n",
    "    'Atropello a animal': 'Otras Causas'\n",
    "}\n",
    "\n",
    "df['tipo_accidente'] = df['tipo_accidente'].map(map_tipo_accidente)"
   ]
  },
  {
   "cell_type": "code",
   "execution_count": null,
   "metadata": {},
   "outputs": [],
   "source": [
    "df['hora'] = df['hora'].str.split(':').str[0].astype(int)\n",
    "df['hora'].value_counts()"
   ]
  },
  {
   "cell_type": "code",
   "execution_count": 45,
   "metadata": {},
   "outputs": [],
   "source": [
    "df_entrenamiento = df.drop(columns=['num_expediente', 'localizacion', 'numero', 'distrito', 'lesividad'], axis=1)"
   ]
  },
  {
   "cell_type": "code",
   "execution_count": null,
   "metadata": {},
   "outputs": [],
   "source": [
    "df_entrenamiento.head(10)"
   ]
  },
  {
   "cell_type": "markdown",
   "metadata": {},
   "source": [
    "Group by por id de accidente:\n",
    "\n",
    "-   Hora a solo la hora\n",
    "-   Rango de edad a sumatorio de edades\n",
    "-   Tipo vehiculo one hot encoding y suma\n",
    "-   Tipo de persona one hot encoding y suma\n",
    "-   Sexo one hot encoding y suma\n",
    "-   Positivo en drogas y alcohol sumar el numero de positivos\n",
    "-   Lesividad la mas alta\n"
   ]
  },
  {
   "cell_type": "code",
   "execution_count": null,
   "metadata": {},
   "outputs": [],
   "source": [
    "df_entrenamiento = df_entrenamiento.drop('id',axis=1)"
   ]
  },
  {
   "cell_type": "code",
   "execution_count": 53,
   "metadata": {},
   "outputs": [],
   "source": [
    "df_transformado = pd.get_dummies(df_entrenamiento)"
   ]
  },
  {
   "cell_type": "code",
   "execution_count": null,
   "metadata": {},
   "outputs": [],
   "source": [
    "df_transformado.describe()"
   ]
  },
  {
   "cell_type": "code",
   "execution_count": null,
   "metadata": {},
   "outputs": [],
   "source": []
  }
 ],
 "metadata": {
  "kernelspec": {
   "display_name": ".venv",
   "language": "python",
   "name": "python3"
  },
  "language_info": {
   "codemirror_mode": {
    "name": "ipython",
    "version": 3
   },
   "file_extension": ".py",
   "mimetype": "text/x-python",
   "name": "python",
   "nbconvert_exporter": "python",
   "pygments_lexer": "ipython3",
   "version": "3.9.20"
  }
 },
 "nbformat": 4,
 "nbformat_minor": 2
}
